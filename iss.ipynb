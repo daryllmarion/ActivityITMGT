{
 "cells": [
  {
   "cell_type": "code",
   "execution_count": null,
   "id": "67007408",
   "metadata": {},
   "outputs": [],
   "source": [
    "import requests\n",
    "import time\n",
    "import matplotlib.pyplot as plt\n",
    "\n",
    "longitude_data = []\n",
    "latitude_data = []\n",
    "\n",
    "for i in range(100):\n",
    "    response = requests.get(\"http://api.open-notify.org/iss-now.json\")\n",
    "    data = response.json()\n",
    "    \n",
    "    longitude = float(data['iss_position']['longitude'])\n",
    "    latitude = float(data['iss_position']['latitude'])\n",
    "    timestamp = data['timestamp']\n",
    "    \n",
    "    \n",
    "    longitude_data.append(longitude)\n",
    "    latitude_data.append(latitude)\n",
    "    \n",
    "    time.sleep(10)\n",
    "\n",
    "print(longitude_data)\n",
    "print(latitude_data)\n",
    "\n",
    "plt.plot(longitude_data, latitude_data)\n",
    "plt.xlabel('Longitude')\n",
    "plt.ylabel('Latitude')\n",
    "plt.title('ISS Position')\n",
    "plt.show()\n"
   ]
  },
  {
   "cell_type": "code",
   "execution_count": null,
   "id": "8bb7cb16",
   "metadata": {},
   "outputs": [],
   "source": []
  }
 ],
 "metadata": {
  "kernelspec": {
   "display_name": "Python 3 (ipykernel)",
   "language": "python",
   "name": "python3"
  },
  "language_info": {
   "codemirror_mode": {
    "name": "ipython",
    "version": 3
   },
   "file_extension": ".py",
   "mimetype": "text/x-python",
   "name": "python",
   "nbconvert_exporter": "python",
   "pygments_lexer": "ipython3",
   "version": "3.10.9"
  }
 },
 "nbformat": 4,
 "nbformat_minor": 5
}
